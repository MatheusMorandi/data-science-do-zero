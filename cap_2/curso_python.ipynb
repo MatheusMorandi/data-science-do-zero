{
 "cells": [
  {
   "cell_type": "markdown",
   "metadata": {},
   "source": [
    "## Capítulo 2: Introdução ao Python\n",
    "\n",
    "Este capítulo do livro \"Data Science do Zero\" de Joel Grus é uma introdução geral à linguagem Python. Ele aborda conceitos básicos, como:\n",
    "\n",
    "- Tipos de dados primitivos (números, strings, listas, etc.)\n",
    "- Estruturas de controle de fluxo (condicionais, loops)\n",
    "- Funções básicas e operações comuns\n",
    "- Manipulação de listas e dicionários\n",
    "- Compreensão de listas\n",
    "- Introdução ao uso de bibliotecas\n",
    "\n",
    "Como já possuo conhecimento prévio em Python e já estou familiarizado com os conceitos apresentados neste capítulo, decidi não incluir códigos relacionados a este conteúdo em meu repositório. O objetivo é focar nos capítulos subsequentes, que abordam técnicas e conceitos mais avançados de ciência de dados, que são os principais tópicos do livro. Se precisar de uma revisão rápida de algum conceito abordado neste capítulo, consulte as documentações oficiais ou revisite este material conforme necessário.\n"
   ]
  }
 ],
 "metadata": {
  "kernelspec": {
   "display_name": "base",
   "language": "python",
   "name": "python3"
  },
  "language_info": {
   "codemirror_mode": {
    "name": "ipython",
    "version": 3
   },
   "file_extension": ".py",
   "mimetype": "text/x-python",
   "name": "python",
   "nbconvert_exporter": "python",
   "pygments_lexer": "ipython3",
   "version": "3.12.3"
  }
 },
 "nbformat": 4,
 "nbformat_minor": 2
}
