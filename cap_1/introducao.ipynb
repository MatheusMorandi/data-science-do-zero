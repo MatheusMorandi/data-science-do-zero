{
 "cells": [
  {
   "cell_type": "markdown",
   "metadata": {},
   "source": [
    "# Encontrando Conectores-Chave\n",
    "\n",
    "## Task:\n",
    "* Identificar \"Conectores-Chave\" entre os users.\n",
    "  \n",
    "Recebi um Data Dump (nesse caso será uma lista)"
   ]
  },
  {
   "cell_type": "code",
   "execution_count": null,
   "metadata": {},
   "outputs": [],
   "source": []
  }
 ],
 "metadata": {
  "language_info": {
   "name": "python"
  }
 },
 "nbformat": 4,
 "nbformat_minor": 2
}
