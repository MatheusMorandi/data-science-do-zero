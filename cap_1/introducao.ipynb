{
 "cells": [
  {
   "cell_type": "markdown",
   "metadata": {},
   "source": [
    "# Encontrando Conectores-Chave\n",
    "\n",
    "### Task:\n",
    "* Identificar \"Conectores-Chave\" entre os usuários.\n",
    "  \n",
    "\"Recebi um Data Dump (nesse caso será uma lista), composto por uma lista onde cada usuário é representado por um ```dict```, que contém o seu ```id``` (um número) e seu ```name``` (nomes gerados aleatoriamente). Além disso, também recebi dados de ```\"amizades\"``` que estão dispostos em uma lista de pares de ID's.\""
   ]
  },
  {
   "cell_type": "code",
   "execution_count": 2,
   "metadata": {},
   "outputs": [],
   "source": [
    "usuarios = [\n",
    "\n",
    "    {\"id\": 0, \"name\": \"Felipe\"},\n",
    "    {\"id\": 1, \"name\": \"Bruno\"},\n",
    "    {\"id\": 2, \"name\": \"Ana\"},\n",
    "    {\"id\": 3, \"name\": \"Daniel\"},\n",
    "    {\"id\": 4, \"name\": \"Henrique\"},\n",
    "    {\"id\": 5, \"name\": \"Eliana\"},\n",
    "    {\"id\": 6, \"name\": \"Isabel\"},\n",
    "    {\"id\": 7, \"name\": \"Gabriela\"},\n",
    "    {\"id\": 8, \"name\": \"Carla\"},\n",
    "    {\"id\": 9, \"name\": \"Jorge\"},\n",
    "\n",
    "]\n",
    "\n",
    "pares_de_amizades = [\n",
    "\n",
    "    (0, 1), (0, 2), (1, 2), (1, 3), (2, 3), (3, 4),\n",
    "    (4, 5), (5, 6), (5, 7), (6, 8), (7, 8), (8, 9)\n",
    "\n",
    "]\n"
   ]
  },
  {
   "cell_type": "code",
   "execution_count": 3,
   "metadata": {},
   "outputs": [],
   "source": [
    "amizades = {usuario[\"id\"]: [] for usuario in usuarios}\n",
    "for i,j in pares_de_amizades:\n",
    "    \n",
    "    amizades[i].append(j)\n",
    "\n",
    "    amizades[j].append(i)\n",
    "    "
   ]
  },
  {
   "cell_type": "code",
   "execution_count": 4,
   "metadata": {},
   "outputs": [
    {
     "name": "stdout",
     "output_type": "stream",
     "text": [
      "24 10 2.4\n"
     ]
    }
   ],
   "source": [
    "def numero_de_amigos(usuario):\n",
    "\n",
    "    \"\"\"Quantos amigos tem o _usuario_?\"\"\"\n",
    "\n",
    "    id_usuario = usuario[\"id\"]\n",
    "\n",
    "    id_amigos = amizades[id_usuario]\n",
    "\n",
    "    return len(id_amigos)\n",
    "\n",
    "conexoes_totais = sum(numero_de_amigos(usuario) for usuario in usuarios)\n",
    "\n",
    "numero_de_usuarios = len(usuarios)\n",
    "\n",
    "media_de_conexoes = conexoes_totais / numero_de_usuarios\n",
    "\n",
    "print(conexoes_totais, numero_de_usuarios, media_de_conexoes)\n"
   ]
  },
  {
   "cell_type": "code",
   "execution_count": 5,
   "metadata": {},
   "outputs": [],
   "source": [
    "numero_amigos_por_id = [\n",
    "    \n",
    "    (usuario[\"id\"], numero_de_amigos(usuario)) for usuario in usuarios\n",
    "    \n",
    "]\n",
    "\n",
    "numero_amigos_por_id.sort(key = lambda id_amigos: id_amigos[1], reverse = True)\n"
   ]
  },
  {
   "cell_type": "code",
   "execution_count": 6,
   "metadata": {},
   "outputs": [
    {
     "name": "stdout",
     "output_type": "stream",
     "text": [
      "[0, 2, 3, 0, 1, 3]\n"
     ]
    }
   ],
   "source": [
    "def amigo_de_amigo_ids(usuario):\n",
    "\n",
    "    return [amigo_de_amigo_id \n",
    "            \n",
    "            for id_amigos in amizades[usuario[\"id\"]]\n",
    "\n",
    "            for amigo_de_amigo_id in amizades[id_amigos]\n",
    "            \n",
    "]\n",
    "\n",
    "print(amigo_de_amigo_ids(usuarios[0]))\n"
   ]
  },
  {
   "cell_type": "code",
   "execution_count": 7,
   "metadata": {},
   "outputs": [
    {
     "name": "stdout",
     "output_type": "stream",
     "text": [
      "Counter({0: 2, 5: 1})\n"
     ]
    }
   ],
   "source": [
    "from collections import Counter\n",
    "\n",
    "def amigos_de_amigos(usuario):\n",
    "\n",
    "    id_usuario = usuario[\"id\"]\n",
    "\n",
    "    return Counter(\n",
    "\n",
    "        amigo_de_amigo_id \n",
    "\n",
    "        for id_amigos in amizades[id_usuario]\n",
    "\n",
    "            for amigo_de_amigo_id in amizades[id_amigos]\n",
    "            \n",
    "                if amigo_de_amigo_id != id_usuario and amigo_de_amigo_id not in amizades[id_usuario]\n",
    "\n",
    "    )\n",
    "\n",
    "print(amigos_de_amigos(usuarios[3]))"
   ]
  },
  {
   "cell_type": "markdown",
   "metadata": {},
   "source": [
    "### E se tentarmos encontrar os cientistas de dados com os mesmos interesses?"
   ]
  },
  {
   "cell_type": "code",
   "execution_count": 8,
   "metadata": {},
   "outputs": [],
   "source": [
    "interesses = [\n",
    "\n",
    "    (0, \"Hadoop\"), (0, \"Big Data\"), (0, \"HBase\"), (0, \"Java\"),\n",
    "    (0, \"Spark\"), (0, \"Storm\"), (0, \"Cassandra\"),\n",
    "    (1, \"NoSQL\"), (1, \"MongoDB\"), (1, \"Cassandra\"), (1, \"HBase\"),\n",
    "    (1, \"Postgres\"), (2, \"Python\"), (2, \"scikit-learn\"), (2, \"scipy\"),\n",
    "    (2, \"numpy\"), (2, \"statsmodels\"), (2, \"pandas\"), (3, \"R\"), (3, \"Python\"),\n",
    "    (3, \"statistics\"), (3, \"regression\"), (3, \"probability\"),\n",
    "    (4, \"machine learning\"), (4, \"regression\"), (4, \"decision trees\"),\n",
    "    (4, \"libsvm\"), (5, \"Python\"), (5, \"R\"), (5, \"Java\"), (5, \"C++\"),\n",
    "    (5, \"Haskell\"), (5, \"programming languages\"), (6, \"statistics\"),\n",
    "    (6, \"probability\"), (6, \"mathematics\"), (6, \"theory\"),\n",
    "    (7, \"machine learning\"), (7, \"scikit-learn\"), (7, \"Mahout\"),\n",
    "    (7, \"neural networks\"), (8, \"neural networks\"), (8, \"deep learning\"),\n",
    "    (8, \"Big Data\"), (8, \"artificial intelligence\"), (9, \"Hadoop\"),\n",
    "    (9, \"Java\"), (9, \"MapReduce\"), (9, \"Big Data\")\n",
    "    \n",
    "]\n"
   ]
  },
  {
   "cell_type": "code",
   "execution_count": 9,
   "metadata": {},
   "outputs": [
    {
     "name": "stdout",
     "output_type": "stream",
     "text": [
      "[0, 8, 9]\n"
     ]
    }
   ],
   "source": [
    "def mesmos_interesses (target_interesse):\n",
    "\n",
    "    \"\"\"Encontre os ids dos usuários com o mesmo interesse\"\"\"\n",
    "\n",
    "    return [id_usuario for id_usuario, interesse_usuario in interesses\n",
    "            if interesse_usuario == target_interesse]\n",
    "\n",
    "print(mesmos_interesses(\"Big Data\"))"
   ]
  },
  {
   "cell_type": "markdown",
   "metadata": {},
   "source": [
    "### A maneira acima até consegue satisfazer a comanda de \"encontrar os cientistas de dados com os mesmos interesses\", mas o fato de ela ter que examinar a lista inteira toda vez que for executada não é muito performático. Então para melhorar esse quesito podemos construir um índice de interesses dos usuários."
   ]
  },
  {
   "cell_type": "code",
   "execution_count": 10,
   "metadata": {},
   "outputs": [],
   "source": [
    "from collections import defaultdict\n",
    "\n",
    "ids_usuario_por_interesse = defaultdict(list)\n",
    "\n",
    "for id_usuario, interesse in interesses:\n",
    "\n",
    "    ids_usuario_por_interesse[interesse].append(id_usuario)\n"
   ]
  },
  {
   "cell_type": "code",
   "execution_count": 11,
   "metadata": {},
   "outputs": [],
   "source": [
    "from collections import defaultdict\n",
    "\n",
    "interesses_por_id_usuario = defaultdict(list)\n",
    "\n",
    "for id_usuario, interesse in interesses:\n",
    "\n",
    "    interesses_por_id_usuario[id_usuario].append(interesse)\n"
   ]
  },
  {
   "cell_type": "code",
   "execution_count": 12,
   "metadata": {},
   "outputs": [
    {
     "name": "stdout",
     "output_type": "stream",
     "text": [
      "Counter({3: 2, 2: 1, 0: 1, 9: 1})\n"
     ]
    }
   ],
   "source": [
    "def interesse_em_comum(usuario):\n",
    "\n",
    "    return Counter(\n",
    "        id_usuario_interessado\n",
    "        for interesse in interesses_por_id_usuario[usuario[\"id\"]]\n",
    "            for id_usuario_interessado in ids_usuario_por_interesse[interesse]\n",
    "                if id_usuario_interessado != usuario[\"id\"]\n",
    "    )\n",
    "\n",
    "print(interesse_em_comum(usuarios[5]))"
   ]
  },
  {
   "cell_type": "markdown",
   "metadata": {},
   "source": [
    "### Vamos imaginar uma situação hipotética onde nos é oferecido um conjunto de dados anônimos contendo o `salary` (salário de cada usuário, em doláres, anual) e o `tenure` (a experiência como cientista de dados, em anos):"
   ]
  },
  {
   "cell_type": "code",
   "execution_count": 13,
   "metadata": {},
   "outputs": [],
   "source": [
    "salarios_e_exps = [(83000, 8.7), (88000, 8.1),\n",
    "                (48000, 0.7), (76000, 6),\n",
    "                (69000, 6.5), (76000, 7.5),\n",
    "                (60000, 2.5), (83000, 10),\n",
    "                (48000, 1.9), (63000, 4.2)]\n"
   ]
  },
  {
   "cell_type": "code",
   "execution_count": 17,
   "metadata": {},
   "outputs": [
    {
     "name": "stdout",
     "output_type": "stream",
     "text": [
      "defaultdict(<class 'list'>, {8.7: [83000], 8.1: [88000], 0.7: [48000], 6: [76000], 6.5: [69000], 7.5: [76000], 2.5: [60000], 10: [83000], 1.9: [48000], 4.2: [63000]})\n"
     ]
    }
   ],
   "source": [
    "salario_por_exp = defaultdict(list)\n",
    "\n",
    "for salario, exp in salarios_e_exps:\n",
    "    salario_por_exp[exp].append(salario)\n",
    "\n",
    "print(salario_por_exp)"
   ]
  },
  {
   "cell_type": "code",
   "execution_count": 24,
   "metadata": {},
   "outputs": [
    {
     "name": "stdout",
     "output_type": "stream",
     "text": [
      "{8.7: 83000.0, 8.1: 88000.0, 0.7: 48000.0, 6: 76000.0, 6.5: 69000.0, 7.5: 76000.0, 2.5: 60000.0, 10: 83000.0, 1.9: 48000.0, 4.2: 63000.0}\n"
     ]
    }
   ],
   "source": [
    "media_salario_por_exp = {\n",
    "\n",
    " exp : sum(salarios) / len(salarios)\n",
    "\n",
    " for exp, salarios in salario_por_exp.items()\n",
    "\n",
    "}\n",
    "print(media_salario_por_exp)\n"
   ]
  }
 ],
 "metadata": {
  "kernelspec": {
   "display_name": "base",
   "language": "python",
   "name": "python3"
  },
  "language_info": {
   "codemirror_mode": {
    "name": "ipython",
    "version": 3
   },
   "file_extension": ".py",
   "mimetype": "text/x-python",
   "name": "python",
   "nbconvert_exporter": "python",
   "pygments_lexer": "ipython3",
   "version": "3.12.3"
  }
 },
 "nbformat": 4,
 "nbformat_minor": 2
}
