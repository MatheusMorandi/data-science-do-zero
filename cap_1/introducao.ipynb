{
 "cells": [
  {
   "cell_type": "markdown",
   "metadata": {},
   "source": [
    "# Encontrando Conectores-Chave\n",
    "\n",
    "### Task:\n",
    "* Identificar \"Conectores-Chave\" entre os usuários.\n",
    "  \n",
    "\"Recebi um Data Dump (nesse caso será uma lista), composto por uma lista onde cada usuário é representado por um ```dict```, que contém o seu ```id``` (um número) e seu ```name``` (nomes gerados aleatoriamente). Além disso, também recebi dados de ```\"amizades\"``` que estão dispostos em uma lista de pares de ID's.\""
   ]
  },
  {
   "cell_type": "code",
   "execution_count": 3,
   "metadata": {},
   "outputs": [],
   "source": [
    "usuarios = [\n",
    "\n",
    "    {\"id\": 0, \"name\": \"Felipe\"},\n",
    "    {\"id\": 1, \"name\": \"Bruno\"},\n",
    "    {\"id\": 2, \"name\": \"Ana\"},\n",
    "    {\"id\": 3, \"name\": \"Daniel\"},\n",
    "    {\"id\": 4, \"name\": \"Henrique\"},\n",
    "    {\"id\": 5, \"name\": \"Eliana\"},\n",
    "    {\"id\": 6, \"name\": \"Isabel\"},\n",
    "    {\"id\": 7, \"name\": \"Gabriela\"},\n",
    "    {\"id\": 8, \"name\": \"Carla\"},\n",
    "    {\"id\": 9, \"name\": \"Jorge\"},\n",
    "\n",
    "]\n",
    "\n",
    "pares_de_amizades = [\n",
    "\n",
    "    (0, 1), (0, 2), (1, 2), (1, 3), (2, 3), (3, 4),\n",
    "    (4, 5), (5, 6), (5, 7), (6, 8), (7, 8), (8, 9)\n",
    "\n",
    "]"
   ]
  },
  {
   "cell_type": "code",
   "execution_count": 35,
   "metadata": {},
   "outputs": [],
   "source": [
    "amizades = {usuario[\"id\"]: [] for usuario in usuarios}\n",
    "for i,j in pares_de_amizades:\n",
    "    \n",
    "    amizades[i].append(j)\n",
    "\n",
    "    amizades[j].append(i)"
   ]
  },
  {
   "cell_type": "code",
   "execution_count": 45,
   "metadata": {},
   "outputs": [
    {
     "name": "stdout",
     "output_type": "stream",
     "text": [
      "24\n"
     ]
    }
   ],
   "source": [
    "def numero_de_amigos(usuario):\n",
    "\n",
    "    \"\"\"Quantos amigos tem o _usuario_?\"\"\"\n",
    "\n",
    "    id_usuario = usuario[\"id\"]\n",
    "\n",
    "    id_amigos = amizades[id_usuario]\n",
    "\n",
    "    return len(id_amigos)\n",
    "\n",
    "conexoes_totais = sum(numero_de_amigos(usuario) for usuario in usuarios)\n",
    "\n",
    "print(conexoes_totais)\n"
   ]
  }
 ],
 "metadata": {
  "kernelspec": {
   "display_name": "base",
   "language": "python",
   "name": "python3"
  },
  "language_info": {
   "codemirror_mode": {
    "name": "ipython",
    "version": 3
   },
   "file_extension": ".py",
   "mimetype": "text/x-python",
   "name": "python",
   "nbconvert_exporter": "python",
   "pygments_lexer": "ipython3",
   "version": "3.12.3"
  }
 },
 "nbformat": 4,
 "nbformat_minor": 2
}
